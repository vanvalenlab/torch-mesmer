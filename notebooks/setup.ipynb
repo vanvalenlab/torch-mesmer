{
 "cells": [
  {
   "cell_type": "code",
   "execution_count": null,
   "id": "b505ef5a-b571-42db-8913-3305376ffa50",
   "metadata": {
    "tags": []
   },
   "outputs": [],
   "source": [
    "!pip3 install torch torchvision torchaudio --index-url https://download.pytorch.org/whl/cu124"
   ]
  },
  {
   "cell_type": "code",
   "execution_count": null,
   "id": "686be59b-8cc9-45ac-a0cd-fee24ccbf36a",
   "metadata": {
    "tags": []
   },
   "outputs": [],
   "source": [
    "!pip install pytest \n",
    "!pip install torchinfo\n",
    "!pip install torchviz"
   ]
  }
 ],
 "metadata": {
  "kernelspec": {
   "display_name": "Python 3 (ipykernel)",
   "language": "python",
   "name": "python3"
  },
  "language_info": {
   "codemirror_mode": {
    "name": "ipython",
    "version": 3
   },
   "file_extension": ".py",
   "mimetype": "text/x-python",
   "name": "python",
   "nbconvert_exporter": "python",
   "pygments_lexer": "ipython3",
   "version": "3.8.10"
  }
 },
 "nbformat": 4,
 "nbformat_minor": 5
}
