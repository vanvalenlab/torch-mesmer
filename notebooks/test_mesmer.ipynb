{
 "cells": [
  {
   "cell_type": "code",
   "execution_count": 1,
   "id": "4525f081-b341-47b3-878b-c2ded6dad5b6",
   "metadata": {},
   "outputs": [],
   "source": [
    "import pytest\n",
    "\n",
    "import numpy as np\n",
    "\n",
    "from unittest.mock import Mock\n",
    "from torchinfo import summary\n",
    "\n",
    "import torch\n",
    "\n",
    "from tensorflow.python.platform import test\n",
    "\n",
    "# from deepcell.model_zoo import PanopticNet\n",
    "from panoptic import PanopticNet\n",
    "from mesmer import Mesmer\n",
    "from deepcell.applications import MultiplexSegmentation\n",
    "from deepcell.applications.mesmer import format_output_mesmer\n",
    "from deepcell.applications.mesmer import mesmer_postprocess\n",
    "from deepcell.applications.mesmer import mesmer_preprocess"
   ]
  },
  {
   "cell_type": "code",
   "execution_count": 2,
   "id": "f62df0ae-485e-464f-bc51-1b00fad827da",
   "metadata": {},
   "outputs": [],
   "source": [
    "class TestMesmer(test.TestCase):\n",
    "\n",
    "    def test_mesmer_app(self, load_path=None):\n",
    "        with self.cached_session():\n",
    "            whole_cell_classes = [1, 3]\n",
    "            nuclear_classes = [1, 3]\n",
    "            num_semantic_classes = whole_cell_classes + nuclear_classes\n",
    "            num_semantic_heads = len(num_semantic_classes)\n",
    "\n",
    "            device = torch.device('cuda:0' if torch.cuda.is_available() else 'cpu')\n",
    "            if load_path is not None:\n",
    "                model = torch.load(load_path, weights_only=False)\n",
    "                model = model.to(device)\n",
    "            else:\n",
    "                model = PanopticNet(\n",
    "                    'resnet50',\n",
    "                    input_shape=(256, 256, 2),\n",
    "                    norm_method=None,\n",
    "                    num_semantic_heads=num_semantic_heads,\n",
    "                    num_semantic_classes=num_semantic_classes,\n",
    "                    location=True,\n",
    "                    include_top=True,\n",
    "                    use_imagenet=False,\n",
    "                    device=device,\n",
    "                )\n",
    "                model = model.to(device)\n",
    "\n",
    "            model.eval()\n",
    "\n",
    "            with torch.no_grad():\n",
    "                app = Mesmer(model)                \n",
    "    \n",
    "                # test output shape\n",
    "                # shape = app.model.output_shape\n",
    "                # self.assertIsInstance(shape, list)\n",
    "                # self.assertEqual(len(shape), 4)\n",
    "    \n",
    "                # test predict with default\n",
    "                x = np.random.rand(1, 500, 500, 2)\n",
    "                # x = np.random.rand(1, 2, 500, 500)\n",
    "                y = app.predict(x)\n",
    "                self.assertEqual(x.shape[:-1], y.shape[:-1])\n",
    "    \n",
    "                # test predict with nuclear compartment only\n",
    "                x = np.random.rand(1, 500, 500, 2)\n",
    "                y = app.predict(x, compartment='nuclear')\n",
    "                self.assertEqual(x.shape[:-1], y.shape[:-1])\n",
    "                self.assertEqual(y.shape[-1], 1)\n",
    "    \n",
    "                # test predict with cell compartment only\n",
    "                x = np.random.rand(1, 500, 500, 2)\n",
    "                y = app.predict(x, compartment='whole-cell')\n",
    "                self.assertEqual(x.shape[:-1], y.shape[:-1])\n",
    "                self.assertEqual(y.shape[-1], 1)\n",
    "    \n",
    "                # test predict with both cell and nuclear compartments\n",
    "                x = np.random.rand(1, 500, 500, 2)\n",
    "                y = app.predict(x, compartment='both')\n",
    "                self.assertEqual(x.shape[:-1], y.shape[:-1])\n",
    "                self.assertEqual(y.shape[-1], 2)\n",
    "    \n",
    "                # test that kwargs are passed through successfully\n",
    "                app._predict_segmentation = Mock()\n",
    "    \n",
    "                # get defaults\n",
    "                _ = app.predict(x, compartment='whole-cell')\n",
    "                args = app._predict_segmentation.call_args[1]\n",
    "                default_cell_kwargs = args['postprocess_kwargs']['whole_cell_kwargs']\n",
    "                default_nuc_kwargs = args['postprocess_kwargs']['nuclear_kwargs']\n",
    "    \n",
    "                # change one of the args for each compartment\n",
    "                maxima_threshold_cell = default_cell_kwargs['maxima_threshold'] + 0.1\n",
    "                radius_nuc = default_nuc_kwargs['radius'] + 2\n",
    "    \n",
    "                _ = app.predict(x, compartment='whole-cell',\n",
    "                                postprocess_kwargs_whole_cell={'maxima_threshold':\n",
    "                                                               maxima_threshold_cell},\n",
    "                                postprocess_kwargs_nuclear={'radius': radius_nuc})\n",
    "    \n",
    "                args = app._predict_segmentation.call_args[1]\n",
    "                cell_kwargs = args['postprocess_kwargs']['whole_cell_kwargs']\n",
    "                assert cell_kwargs['maxima_threshold'] == maxima_threshold_cell\n",
    "    \n",
    "                nuc_kwargs = args['postprocess_kwargs']['nuclear_kwargs']\n",
    "                assert nuc_kwargs['radius'] == radius_nuc\n",
    "    \n",
    "                # check that rest are unchanged\n",
    "                cell_kwargs['maxima_threshold'] = default_cell_kwargs['maxima_threshold']\n",
    "                assert cell_kwargs == default_cell_kwargs\n",
    "    \n",
    "                nuc_kwargs['radius'] = default_nuc_kwargs['radius']\n",
    "                assert nuc_kwargs == default_nuc_kwargs\n",
    "    \n",
    "                # test legacy version\n",
    "                # Change to cpu device in order to not break for now\n",
    "                cpu_device = torch.device(\"cpu\")\n",
    "                cpu_model = model.to(cpu_device)\n",
    "                cpu_model.device = cpu_device\n",
    "                old_app = MultiplexSegmentation(cpu_model)\n",
    "    \n",
    "                # test predict with default\n",
    "                x = np.random.rand(1, 500, 500, 2)\n",
    "                y = old_app.predict(x)\n",
    "                self.assertEqual(x.shape[:-1], y.shape[:-1])    \n",
    "                print(\"SUCCESS\")\n"
   ]
  },
  {
   "cell_type": "code",
   "execution_count": 3,
   "id": "9b15813a-9a4f-4b0a-b501-f2110be82c67",
   "metadata": {},
   "outputs": [
    {
     "name": "stdout",
     "output_type": "stream",
     "text": [
      "channels_first\n",
      "conv1\n",
      "bn1\n",
      "relu\n",
      "maxpool\n",
      "layer1\n",
      "layer2\n",
      "layer3\n",
      "layer4\n",
      "avgpool\n",
      "fc\n",
      "size of all 5\n",
      "['P7', 'P6', 'P5', 'P4', 'P3']\n"
     ]
    },
    {
     "name": "stderr",
     "output_type": "stream",
     "text": [
      "/notebooks/torch-mesmer/deep_watershed.py:169: UserWarning: Only one label was provided to `remove_small_objects`. Did you mean to use a boolean array?\n",
      "  label_image = remove_small_objects(label_image,\n"
     ]
    },
    {
     "name": "stdout",
     "output_type": "stream",
     "text": [
      "SUCCESS\n"
     ]
    },
    {
     "name": "stderr",
     "output_type": "stream",
     "text": [
      "/usr/local/lib/python3.8/dist-packages/deepcell_toolbox/deep_watershed.py:193: UserWarning: Only one label was provided to `remove_small_objects`. Did you mean to use a boolean array?\n",
      "  label_image = remove_small_objects(label_image,\n"
     ]
    }
   ],
   "source": [
    "a = TestMesmer()\n",
    "a.test_mesmer_app()"
   ]
  },
  {
   "cell_type": "code",
   "execution_count": null,
   "id": "793e8a26-741b-4f22-bd70-2b23275ac67f",
   "metadata": {},
   "outputs": [],
   "source": []
  }
 ],
 "metadata": {
  "kernelspec": {
   "display_name": "Python 3 (ipykernel)",
   "language": "python",
   "name": "python3"
  },
  "language_info": {
   "codemirror_mode": {
    "name": "ipython",
    "version": 3
   },
   "file_extension": ".py",
   "mimetype": "text/x-python",
   "name": "python",
   "nbconvert_exporter": "python",
   "pygments_lexer": "ipython3",
   "version": "3.8.10"
  }
 },
 "nbformat": 4,
 "nbformat_minor": 5
}
