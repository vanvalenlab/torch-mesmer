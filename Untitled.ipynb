{
 "cells": [
  {
   "cell_type": "code",
   "execution_count": 23,
   "id": "750fb619-2f8c-4c2c-bd95-75d8bd9ac7b2",
   "metadata": {},
   "outputs": [],
   "source": [
    "def decompress(str, ptr=0):\n",
    "    num = \"\"\n",
    "    out = \"\"\n",
    "    while ptr < len(str):\n",
    "        curr = str[ptr]\n",
    "        if curr.isnumeric():\n",
    "            num += curr\n",
    "        elif curr.isalpha():\n",
    "            out += curr\n",
    "        elif curr == '[':\n",
    "            new, ptr = decompress(str, ptr=ptr+1)\n",
    "            if num:\n",
    "                out += int(num)*new\n",
    "            else:\n",
    "                out += new\n",
    "            num = \"\"\n",
    "        elif curr == ']':\n",
    "            return out, ptr\n",
    "        else:\n",
    "            assert(False)\n",
    "        ptr+=1\n",
    "    return out"
   ]
  },
  {
   "cell_type": "code",
   "execution_count": 24,
   "id": "281d5243-a3ea-4ec8-83f2-89724fb44bb4",
   "metadata": {},
   "outputs": [
    {
     "data": {
      "text/plain": [
       "'abcabcabcababababc'"
      ]
     },
     "execution_count": 24,
     "metadata": {},
     "output_type": "execute_result"
    }
   ],
   "source": [
    "decompress('3[abc]4[ab]c')"
   ]
  },
  {
   "cell_type": "code",
   "execution_count": 25,
   "id": "7aaab32c-9522-42a5-80b2-e68639b357e5",
   "metadata": {},
   "outputs": [
    {
     "data": {
      "text/plain": [
       "'aaabaaab'"
      ]
     },
     "execution_count": 25,
     "metadata": {},
     "output_type": "execute_result"
    }
   ],
   "source": [
    "decompress('2[3[a]b]')"
   ]
  },
  {
   "cell_type": "code",
   "execution_count": 26,
   "id": "1d2a4435-aae0-46cc-97d8-9496769e5939",
   "metadata": {},
   "outputs": [
    {
     "data": {
      "text/plain": [
       "''"
      ]
     },
     "execution_count": 26,
     "metadata": {},
     "output_type": "execute_result"
    }
   ],
   "source": [
    "decompress('0[abc]')"
   ]
  },
  {
   "cell_type": "code",
   "execution_count": 27,
   "id": "cca4571a-0b59-4085-8839-2d53524b6f43",
   "metadata": {},
   "outputs": [
    {
     "data": {
      "text/plain": [
       "'ab'"
      ]
     },
     "execution_count": 27,
     "metadata": {},
     "output_type": "execute_result"
    }
   ],
   "source": [
    "decompress('a[0]b')"
   ]
  },
  {
   "cell_type": "code",
   "execution_count": null,
   "id": "699b1314-9fbb-4315-86dd-40a783308003",
   "metadata": {},
   "outputs": [],
   "source": []
  }
 ],
 "metadata": {
  "kernelspec": {
   "display_name": "Python 3 (ipykernel)",
   "language": "python",
   "name": "python3"
  },
  "language_info": {
   "codemirror_mode": {
    "name": "ipython",
    "version": 3
   },
   "file_extension": ".py",
   "mimetype": "text/x-python",
   "name": "python",
   "nbconvert_exporter": "python",
   "pygments_lexer": "ipython3",
   "version": "3.8.10"
  }
 },
 "nbformat": 4,
 "nbformat_minor": 5
}
